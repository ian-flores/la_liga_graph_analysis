{
 "cells": [
  {
   "cell_type": "code",
   "execution_count": 1,
   "metadata": {},
   "outputs": [],
   "source": [
    "import networkx as nx"
   ]
  },
  {
   "cell_type": "code",
   "execution_count": null,
   "metadata": {},
   "outputs": [],
   "source": [
    "'../la_liga_graph_analysis/data/graphs/69217_222.gml', '../la_liga_graph_analysis/data/graphs/68325_217.gml',"
   ]
  },
  {
   "cell_type": "code",
   "execution_count": 21,
   "metadata": {},
   "outputs": [],
   "source": [
    "G = nx.read_gml('data/graphs/68325_217.gml')"
   ]
  },
  {
   "cell_type": "code",
   "execution_count": 22,
   "metadata": {},
   "outputs": [],
   "source": [
    "features = dict(nx.degree(G))"
   ]
  },
  {
   "cell_type": "code",
   "execution_count": 23,
   "metadata": {},
   "outputs": [],
   "source": [
    "    features_di = {int(k):v for k,v, in features.items()}"
   ]
  },
  {
   "cell_type": "code",
   "execution_count": 25,
   "metadata": {},
   "outputs": [
    {
     "data": {
      "text/plain": [
       "NodeView(('25854', '19757', '5558', '15743', '25994', '23791', '25879', '25873', '25878', '20176', '20125', '19296', '25910', '25997', '25998', '25996', '6913', '25995', '5216', '5503', '25992', '7069', '25925'))"
      ]
     },
     "execution_count": 25,
     "metadata": {},
     "output_type": "execute_result"
    }
   ],
   "source": [
    "G.nodes()"
   ]
  },
  {
   "cell_type": "code",
   "execution_count": 16,
   "metadata": {},
   "outputs": [
    {
     "data": {
      "text/plain": [
       "{'20125': 11,\n",
       " '19757': 12,\n",
       " '5558': 12,\n",
       " '17797': 11,\n",
       " '25863': 10,\n",
       " '25878': 6,\n",
       " '20131': 12,\n",
       " '25869': 4,\n",
       " '25874': 4,\n",
       " '20176': 12,\n",
       " '19298': 12,\n",
       " '25873': 10,\n",
       " '25879': 11,\n",
       " '25871': 2,\n",
       " '25865': 2,\n",
       " '25864': 4,\n",
       " '25876': 1,\n",
       " '25867': 4,\n",
       " '25858': 2,\n",
       " '25861': 2,\n",
       " '6391': 1,\n",
       " '5216': 12,\n",
       " '5503': 6,\n",
       " '6913': 7}"
      ]
     },
     "execution_count": 16,
     "metadata": {},
     "output_type": "execute_result"
    }
   ],
   "source": [
    "features"
   ]
  },
  {
   "cell_type": "code",
   "execution_count": null,
   "metadata": {},
   "outputs": [],
   "source": []
  }
 ],
 "metadata": {
  "kernelspec": {
   "display_name": "Python 3",
   "language": "python",
   "name": "python3"
  },
  "language_info": {
   "codemirror_mode": {
    "name": "ipython",
    "version": 3
   },
   "file_extension": ".py",
   "mimetype": "text/x-python",
   "name": "python",
   "nbconvert_exporter": "python",
   "pygments_lexer": "ipython3",
   "version": "3.6.8"
  }
 },
 "nbformat": 4,
 "nbformat_minor": 2
}
